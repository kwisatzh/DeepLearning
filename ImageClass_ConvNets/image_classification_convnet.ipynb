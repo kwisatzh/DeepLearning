{
 "cells": [
  {
   "cell_type": "markdown",
   "metadata": {
    "collapsed": true,
    "deletable": true,
    "editable": true
   },
   "source": [
    "# Image Classification\n",
    "In this notebook, we will use convenets to classify images from the [CIFAR-10 dataset](https://www.cs.toronto.edu/~kriz/cifar.html).  The dataset consists of airplanes, dogs, cats, and other objects. \n",
    "The entire process will entail preprocessing the images, then training a convolutional neural network on all the samples. The images will first be normalized and the labels will be one-hot encoded.  The conv-net will include conv layers, max pooling, dropout, and fully connected layers. The code structrue is inspired by Udacity's DL course. \n",
    "\n",
    "## Get the Data\n",
    "Run the following cell to download the [CIFAR-10 dataset for python](https://www.cs.toronto.edu/~kriz/cifar-10-python.tar.gz)."
   ]
  },
  {
   "cell_type": "code",
   "execution_count": 1,
   "metadata": {
    "collapsed": false,
    "deletable": true,
    "editable": true
   },
   "outputs": [
    {
     "name": "stderr",
     "output_type": "stream",
     "text": [
      "CIFAR-10 Dataset: 171MB [00:30, 5.61MB/s]                              \n"
     ]
    },
    {
     "name": "stdout",
     "output_type": "stream",
     "text": [
      "All files found!\n"
     ]
    }
   ],
   "source": [
    "\n",
    "from urllib.request import urlretrieve\n",
    "from os.path import isfile, isdir\n",
    "from tqdm import tqdm\n",
    "import problem_unittests as tests\n",
    "import tarfile\n",
    "\n",
    "cifar10_dataset_folder_path = 'cifar-10-batches-py'\n",
    "\n",
    "# If using Floydhub, use the existing dataset instead\n",
    "floyd_cifar10_location = '/input/cifar-10/python.tar.gz'\n",
    "if isfile(floyd_cifar10_location):\n",
    "    tar_gz_path = floyd_cifar10_location\n",
    "else:\n",
    "    tar_gz_path = 'cifar-10-python.tar.gz'\n",
    "\n",
    "class DLProgress(tqdm):\n",
    "    last_block = 0\n",
    "\n",
    "    def hook(self, block_num=1, block_size=1, total_size=None):\n",
    "        self.total = total_size\n",
    "        self.update((block_num - self.last_block) * block_size)\n",
    "        self.last_block = block_num\n",
    "\n",
    "if not isfile(tar_gz_path):\n",
    "    with DLProgress(unit='B', unit_scale=True, miniters=1, desc='CIFAR-10 Dataset') as pbar:\n",
    "        urlretrieve(\n",
    "            'https://www.cs.toronto.edu/~kriz/cifar-10-python.tar.gz',\n",
    "            tar_gz_path,\n",
    "            pbar.hook)\n",
    "\n",
    "if not isdir(cifar10_dataset_folder_path):\n",
    "    with tarfile.open(tar_gz_path) as tar:\n",
    "        tar.extractall()\n",
    "        tar.close()\n",
    "\n",
    "\n",
    "tests.test_folder_path(cifar10_dataset_folder_path)"
   ]
  },
  {
   "cell_type": "markdown",
   "metadata": {
    "deletable": true,
    "editable": true
   },
   "source": [
    "## Explore the Data\n",
    "The dataset is broken into batches to prevent your machine from running out of memory.  The CIFAR-10 dataset consists of 5 batches, named `data_batch_1`, `data_batch_2`, etc.. Each batch contains the labels and images that are one of the following:\n",
    "* airplane\n",
    "* automobile\n",
    "* bird\n",
    "* cat\n",
    "* deer\n",
    "* dog\n",
    "* frog\n",
    "* horse\n",
    "* ship\n",
    "* truck\n",
    "\n",
    "The `batch_id` is the id for a batch (1-5). The `sample_id` is the id for a image and label pair in the batch.\n"
   ]
  },
  {
   "cell_type": "code",
   "execution_count": 2,
   "metadata": {
    "collapsed": false,
    "deletable": true,
    "editable": true
   },
   "outputs": [
    {
     "name": "stdout",
     "output_type": "stream",
     "text": [
      "\n",
      "Stats of batch 1:\n",
      "Samples: 10000\n",
      "Label Counts: {0: 1005, 1: 974, 2: 1032, 3: 1016, 4: 999, 5: 937, 6: 1030, 7: 1001, 8: 1025, 9: 981}\n",
      "First 20 Labels: [6, 9, 9, 4, 1, 1, 2, 7, 8, 3, 4, 7, 7, 2, 9, 9, 9, 3, 2, 6]\n",
      "\n",
      "Example of Image 5:\n",
      "Image - Min Value: 0 Max Value: 252\n",
      "Image - Shape: (32, 32, 3)\n",
      "Label - Label Id: 1 Name: automobile\n"
     ]
    },
    {
     "data": {
      "image/png": "[encoded data removed]",
      "text/plain": [
       "<matplotlib.figure.Figure at 0x11b8de780>"
      ]
     },
     "metadata": {
      "image/png": {
       "height": 250,
       "width": 253
      }
     },
     "output_type": "display_data"
    }
   ],
   "source": [
    "%matplotlib inline\n",
    "%config InlineBackend.figure_format = 'retina'\n",
    "\n",
    "import helper\n",
    "import numpy as np\n",
    "\n",
    "# Explore the dataset\n",
    "batch_id = 1\n",
    "sample_id = 5\n",
    "helper.display_stats(cifar10_dataset_folder_path, batch_id, sample_id)"
   ]
  },
  {
   "cell_type": "markdown",
   "metadata": {
    "deletable": true,
    "editable": true
   },
   "source": [
    "## Preprocess Functions\n",
    "### Normalize\n",
    "The `normalize` function that takes in image data, `x`, and return it as a normalized Numpy array. The values are in the range of 0 to 1, inclusive.  The return object is the same shape as `x`."
   ]
  },
  {
   "cell_type": "code",
   "execution_count": 3,
   "metadata": {
    "collapsed": false,
    "deletable": true,
    "editable": true
   },
   "outputs": [
    {
     "name": "stdout",
     "output_type": "stream",
     "text": [
      "Tests Passed\n"
     ]
    }
   ],
   "source": [
    "def normalize(x):\n",
    "    \"\"\"\n",
    "    Normalize a list of sample image data in the range of 0 to 1\n",
    "    : x: List of image data.  The image shape is (32, 32, 3)\n",
    "    : return: Numpy array of normalize data\n",
    "    \"\"\"\n",
    "    x = (255.0 - x)/255\n",
    "    return x\n",
    "\n",
    "\n",
    "tests.test_normalize(normalize)"
   ]
  },
  {
   "cell_type": "markdown",
   "metadata": {
    "deletable": true,
    "editable": true
   },
   "source": [
    "### One-hot encode\n",
    "Implementation of `one_hot_encode` function. The input, `x`, are a list of labels.  Returns the list of labels as One-Hot encoded Numpy array.  The possible values for labels are 0 to 9. \n"
   ]
  },
  {
   "cell_type": "code",
   "execution_count": 4,
   "metadata": {
    "collapsed": false,
    "deletable": true,
    "editable": true
   },
   "outputs": [
    {
     "name": "stdout",
     "output_type": "stream",
     "text": [
      "Tests Passed\n"
     ]
    }
   ],
   "source": [
    "from sklearn import preprocessing\n",
    "lb = None\n",
    "def one_hot_encode(x):\n",
    "    \"\"\"\n",
    "    One hot encode a list of sample labels. Return a one-hot encoded vector for each label.\n",
    "    : x: List of sample Labels\n",
    "    : return: Numpy array of one-hot encoded labels\n",
    "    \"\"\"\n",
    "    global lb\n",
    "    if lb is None:\n",
    "        lb = preprocessing.LabelBinarizer()\n",
    "        lb.fit(x)\n",
    "    encodings = lb.transform(x)\n",
    "        \n",
    "    return encodings\n",
    "\n",
    "tests.test_one_hot_encode(one_hot_encode)"
   ]
  },
  {
   "cell_type": "markdown",
   "metadata": {
    "deletable": true,
    "editable": true
   },
   "source": [
    "## Preprocess all the data and save it\n",
    "Running the code cell below will preprocess all the CIFAR-10 data and save it to file. The code below also uses 10% of the training data for validation."
   ]
  },
  {
   "cell_type": "code",
   "execution_count": 5,
   "metadata": {
    "collapsed": false,
    "deletable": true,
    "editable": true
   },
   "outputs": [],
   "source": [
    "\n",
    "# Preprocess Training, Validation, and Testing Data\n",
    "helper.preprocess_and_save_data(cifar10_dataset_folder_path, normalize, one_hot_encode)"
   ]
  },
  {
   "cell_type": "markdown",
   "metadata": {
    "deletable": true,
    "editable": true
   },
   "source": [
    "# Check Point\n",
    "First checkpoint, preprocessed data saved to disk."
   ]
  },
  {
   "cell_type": "code",
   "execution_count": 6,
   "metadata": {
    "collapsed": false,
    "deletable": true,
    "editable": true
   },
   "outputs": [],
   "source": [
    "\n",
    "import pickle\n",
    "import problem_unittests as tests\n",
    "import helper\n",
    "\n",
    "# Load the Preprocessed Validation data\n",
    "valid_features, valid_labels = pickle.load(open('preprocess_validation.p', mode='rb'))"
   ]
  },
  {
   "cell_type": "markdown",
   "metadata": {
    "deletable": true,
    "editable": true
   },
   "source": [
    "## Building the network\n",
    "We implement each layer in a function.  We use TF, and for exposition, try to avoid using existing functions. \n",
    "\n",
    "\n",
    "### Input\n",
    "The neural network needs to read the image data, one-hot encoded labels, and dropout keep probability. \n",
    "* We implement `neural_net_image_input`\n",
    " * Returns a [TF Placeholder](https://www.tensorflow.org/api_docs/python/tf/placeholder)\n",
    " * Sets the shape using `image_shape` with batch size set to `None`.\n",
    " * Names the TensorFlow placeholder \"x\" using the TensorFlow `name` parameter in the [TF Placeholder](https://www.tensorflow.org/api_docs/python/tf/placeholder).\n",
    "* Implement `neural_net_label_input`\n",
    " * Returns a [TF Placeholder](https://www.tensorflow.org/api_docs/python/tf/placeholder)\n",
    " * Sets the shape using `n_classes` with batch size set to `None`.\n",
    " * Names the TensorFlow placeholder \"y\" using the TensorFlow `name` parameter in the [TF Placeholder](https://www.tensorflow.org/api_docs/python/tf/placeholder).\n",
    "* Implement `neural_net_keep_prob_input`\n",
    " * Returns a [TF Placeholder](https://www.tensorflow.org/api_docs/python/tf/placeholder) for dropout keep probability.\n",
    " * Names the TensorFlow placeholder \"keep_prob\" using the TensorFlow `name` parameter in the [TF Placeholder](https://www.tensorflow.org/api_docs/python/tf/placeholder).\n",
    "\n",
    "These names will be used at the end of the project to load the saved model."
   ]
  },
  {
   "cell_type": "code",
   "execution_count": 1,
   "metadata": {
    "collapsed": false,
    "deletable": true,
    "editable": true
   },
   "outputs": [
    {
     "ename": "NameError",
     "evalue": "name 'tests' is not defined",
     "output_type": "error",
     "traceback": [
      "\u001b[0;31m---------------------------------------------------------------------------\u001b[0m",
      "\u001b[0;31mNameError\u001b[0m                                 Traceback (most recent call last)",
      "\u001b[0;32m<ipython-input-1-090aa0e44a8e>\u001b[0m in \u001b[0;36m<module>\u001b[0;34m()\u001b[0m\n\u001b[1;32m     32\u001b[0m \"\"\"\n\u001b[1;32m     33\u001b[0m \u001b[0mtf\u001b[0m\u001b[0;34m.\u001b[0m\u001b[0mreset_default_graph\u001b[0m\u001b[0;34m(\u001b[0m\u001b[0;34m)\u001b[0m\u001b[0;34m\u001b[0m\u001b[0m\n\u001b[0;32m---> 34\u001b[0;31m \u001b[0mtests\u001b[0m\u001b[0;34m.\u001b[0m\u001b[0mtest_nn_image_inputs\u001b[0m\u001b[0;34m(\u001b[0m\u001b[0mneural_net_image_input\u001b[0m\u001b[0;34m)\u001b[0m\u001b[0;34m\u001b[0m\u001b[0m\n\u001b[0m\u001b[1;32m     35\u001b[0m \u001b[0mtests\u001b[0m\u001b[0;34m.\u001b[0m\u001b[0mtest_nn_label_inputs\u001b[0m\u001b[0;34m(\u001b[0m\u001b[0mneural_net_label_input\u001b[0m\u001b[0;34m)\u001b[0m\u001b[0;34m\u001b[0m\u001b[0m\n\u001b[1;32m     36\u001b[0m \u001b[0mtests\u001b[0m\u001b[0;34m.\u001b[0m\u001b[0mtest_nn_keep_prob_inputs\u001b[0m\u001b[0;34m(\u001b[0m\u001b[0mneural_net_keep_prob_input\u001b[0m\u001b[0;34m)\u001b[0m\u001b[0;34m\u001b[0m\u001b[0m\n",
      "\u001b[0;31mNameError\u001b[0m: name 'tests' is not defined"
     ]
    }
   ],
   "source": [
    "import tensorflow as tf\n",
    "\n",
    "def neural_net_image_input(image_shape):\n",
    "    \"\"\"\n",
    "    Return a Tensor for a bach of image input\n",
    "    : image_shape: Shape of the images\n",
    "    : return: Tensor for image input.\n",
    "    \"\"\"\n",
    "    return tf.placeholder(tf.float32, [None, *image_shape], name='x')\n",
    "\n",
    "\n",
    "\n",
    "def neural_net_label_input(n_classes):\n",
    "    \"\"\"\n",
    "    Return a Tensor for a batch of label input\n",
    "    : n_classes: Number of classes\n",
    "    : return: Tensor for label input.\n",
    "    \"\"\"\n",
    "    return tf.placeholder(tf.float32, [None, n_classes], name='y')\n",
    "\n",
    "\n",
    "def neural_net_keep_prob_input():\n",
    "    \"\"\"\n",
    "    Return a Tensor for keep probability\n",
    "    : return: Tensor for keep probability.\n",
    "    \"\"\"\n",
    "    return tf.placeholder(tf.float32,name='keep_prob')\n",
    "\n",
    "tf.reset_default_graph()\n",
    "tests.test_nn_image_inputs(neural_net_image_input)\n",
    "tests.test_nn_label_inputs(neural_net_label_input)\n",
    "tests.test_nn_keep_prob_inputs(neural_net_keep_prob_input)"
   ]
  },
  {
   "cell_type": "markdown",
   "metadata": {
    "deletable": true,
    "editable": true
   },
   "source": [
    "### Convolution and Max Pooling Layer\n",
    "We implement the function `conv2d_maxpool` to apply convolution then max pooling:\n",
    "* First create the weight and bias using `conv_ksize`, `conv_num_outputs` and the shape of `x_tensor`.\n",
    "* Apply a convolution to `x_tensor` using weight and `conv_strides`.\n",
    "* Use same padding, but that can be changed. \n",
    "* Bias is added\n",
    "* Need a nonlinear activation to the convolution.\n",
    "* Apply Max Pooling using `pool_ksize` and `pool_strides`.\n",
    "* Using same padding again.\n"
   ]
  },
  {
   "cell_type": "code",
   "execution_count": 8,
   "metadata": {
    "collapsed": false,
    "deletable": true,
    "editable": true
   },
   "outputs": [
    {
     "name": "stdout",
     "output_type": "stream",
     "text": [
      "Tests Passed\n"
     ]
    }
   ],
   "source": [
    "def conv2d_maxpool(x_tensor, conv_num_outputs, conv_ksize, conv_strides, pool_ksize, pool_strides):\n",
    "    \"\"\"\n",
    "    Apply convolution then max pooling to x_tensor\n",
    "    :param x_tensor: TensorFlow Tensor\n",
    "    :param conv_num_outputs: Number of outputs for the convolutional layer\n",
    "    :param conv_ksize: kernal size 2-D Tuple for the convolutional layer\n",
    "    :param conv_strides: Stride 2-D Tuple for convolution\n",
    "    :param pool_ksize: kernal size 2-D Tuple for pool\n",
    "    :param pool_strides: Stride 2-D Tuple for pool\n",
    "    : return: A tensor that represents convolution and max pooling of x_tensor\n",
    "    \"\"\"\n",
    "    \n",
    "    input_depth = x_tensor.get_shape().as_list()[3]\n",
    "    weights = tf.Variable(tf.truncated_normal([*conv_ksize, input_depth, conv_num_outputs], mean=0.0, stddev=0.05, dtype=tf.float32))\n",
    "    bias = tf.Variable(tf.zeros(conv_num_outputs, dtype = tf.float32))\n",
    "    inputs = x_tensor\n",
    "    conv_layer = tf.nn.conv2d(inputs, # input \n",
    "                         weights, # weights\n",
    "                         strides=[1,conv_strides[0],conv_strides[1],1], \n",
    "                          padding='SAME')\n",
    "    conv_layer = tf.nn.bias_add(conv_layer, bias)\n",
    "    conv_layer = tf.nn.relu(conv_layer)\n",
    "# Apply Max Pooling\n",
    "    conv_layer = tf.nn.max_pool(conv_layer,\n",
    "                        ksize=[1,pool_ksize[0],pool_ksize[1],1],\n",
    "                        strides=[1,pool_strides[0],pool_strides[1],1],\n",
    "                        padding='SAME')\n",
    "    return conv_layer \n",
    "\n",
    "tests.test_con_pool(conv2d_maxpool)"
   ]
  },
  {
   "cell_type": "markdown",
   "metadata": {
    "deletable": true,
    "editable": true
   },
   "source": [
    "### Flatten Layer\n",
    "The `flatten` function changes the dimension of `x_tensor` from a 4-D tensor to a 2-D tensor.  The output is the shape (*Batch Size*, *Flattened Image Size*). "
   ]
  },
  {
   "cell_type": "code",
   "execution_count": 9,
   "metadata": {
    "collapsed": false,
    "deletable": true,
    "editable": true
   },
   "outputs": [
    {
     "name": "stdout",
     "output_type": "stream",
     "text": [
      "Tests Passed\n"
     ]
    }
   ],
   "source": [
    "def flatten(x_tensor):\n",
    "    \"\"\"\n",
    "    Flatten x_tensor to (Batch Size, Flattened Image Size)\n",
    "    : x_tensor: A tensor of size (Batch Size, ...), where ... are the image dimensions.\n",
    "    : return: A tensor of size (Batch Size, Flattened Image Size).\n",
    "    \"\"\"\n",
    "    \n",
    "    width = x_tensor.get_shape().as_list()[1]\n",
    "    height = x_tensor.get_shape().as_list()[2]\n",
    "    depth = x_tensor.get_shape().as_list()[3]\n",
    "    image_flat_size = width*height*depth\n",
    "    return tf.reshape(x_tensor, [-1, width * height * depth])\n",
    "\n",
    "tests.test_flatten(flatten)"
   ]
  },
  {
   "cell_type": "markdown",
   "metadata": {
    "deletable": true,
    "editable": true
   },
   "source": [
    "### Fully-Connected Layer\n",
    "The fully-connected layer is implemented using `fully_conn` function to `x_tensor` with the shape (*Batch Size*, *num_outputs*). "
   ]
  },
  {
   "cell_type": "code",
   "execution_count": 10,
   "metadata": {
    "collapsed": false,
    "deletable": true,
    "editable": true
   },
   "outputs": [
    {
     "name": "stdout",
     "output_type": "stream",
     "text": [
      "Tests Passed\n"
     ]
    }
   ],
   "source": [
    "def fully_conn(x_tensor, num_outputs):\n",
    "    \"\"\"\n",
    "    Apply a fully connected layer to x_tensor using weight and bias\n",
    "    : x_tensor: A 2-D tensor where the first dimension is batch size.\n",
    "    : num_outputs: The number of output that the new tensor should be.\n",
    "    : return: A 2-D tensor where the second dimension is num_outputs.\n",
    "    \"\"\"\n",
    "   \n",
    "    return tf.contrib.layers.fully_connected(inputs=x_tensor, num_outputs=num_outputs, activation_fn = tf.nn.relu)\n",
    "\n",
    "tests.test_fully_conn(fully_conn)"
   ]
  },
  {
   "cell_type": "markdown",
   "metadata": {
    "deletable": true,
    "editable": true
   },
   "source": [
    "### Output Layer\n",
    "The `output` function that applies a fully connected layer to `x_tensor` with the shape (*Batch Size*, *num_outputs*). \n",
    "\n",
    "**Note:** Activation, softmax, or cross entropy are **not** applied to this."
   ]
  },
  {
   "cell_type": "code",
   "execution_count": 11,
   "metadata": {
    "collapsed": false,
    "deletable": true,
    "editable": true
   },
   "outputs": [
    {
     "name": "stdout",
     "output_type": "stream",
     "text": [
      "Tests Passed\n"
     ]
    }
   ],
   "source": [
    "def output(x_tensor, num_outputs):\n",
    "    \"\"\"\n",
    "    Apply a output layer to x_tensor using weight and bias\n",
    "    : x_tensor: A 2-D tensor where the first dimension is batch size.\n",
    "    : num_outputs: The number of output that the new tensor should be.\n",
    "    : return: A 2-D tensor where the second dimension is num_outputs.\n",
    "    \"\"\"\n",
    "    return tf.contrib.layers.fully_connected(inputs=x_tensor, num_outputs=num_outputs, activation_fn = None)\n",
    "\n",
    "tests.test_output(output)"
   ]
  },
  {
   "cell_type": "markdown",
   "metadata": {
    "deletable": true,
    "editable": true
   },
   "source": [
    "### Create Convolutional Model\n",
    "Implementation of the function `conv_net` to create a convolutional neural network model. The function takes in a batch of images, `x`, and outputs logits.  General process:\n",
    "\n",
    "* Apply 1, 2, or 3 Convolution and Max Pool layers\n",
    "* Apply a Flatten Layer\n",
    "* Apply 1, 2, or 3 Fully Connected Layers\n",
    "* Apply an Output Layer\n",
    "* Return the output\n",
    "* Apply [TensorFlow's Dropout](https://www.tensorflow.org/api_docs/python/tf/nn/dropout) to one or more layers in the model using `keep_prob`. "
   ]
  },
  {
   "cell_type": "code",
   "execution_count": 12,
   "metadata": {
    "collapsed": false,
    "deletable": true,
    "editable": true
   },
   "outputs": [
    {
     "name": "stdout",
     "output_type": "stream",
     "text": [
      "Neural Network Built!\n"
     ]
    }
   ],
   "source": [
    "def conv_net(x, keep_prob):\n",
    "    \"\"\"\n",
    "    Create a convolutional neural network model\n",
    "    : x: Placeholder tensor that holds image data.\n",
    "    : keep_prob: Placeholder tensor that hold dropout keep probability.\n",
    "    : return: Tensor that represents logits\n",
    "    \"\"\"\n",
    "\n",
    "    # Function Definition from Above:\n",
    "    #    conv2d_maxpool(x_tensor, conv_num_outputs, conv_ksize, conv_strides, pool_ksize, pool_strides)\n",
    " \n",
    "  \n",
    "    conv1 = conv2d_maxpool(x, 16, (5,5), (1,1), (2,2), (2,2))\n",
    "    conv2 = conv2d_maxpool(conv1, 32, (4,4), (1,1), (1,1), (1,1))\n",
    "    #conv2 = tf.nn.dropout(conv2, keep_prob)\n",
    "    #11x11x32 -> 8x8x64 -> 4x4x64\n",
    "    conv3 = conv2d_maxpool(conv2, 64, (4,4), (1,1), (2,2), (2,2))\n",
    "    # TODO: Apply a Flatten Layer\n",
    "    # Function Definition from Above:\n",
    "    flat = flatten(conv3)\n",
    "    \n",
    "    # Function Definition from Above:\n",
    "    #   fully_conn(x_tensor, num_outputs)\n",
    "    num_outputs=10\n",
    "    fc = fully_conn(flat,500)\n",
    "    fc = tf.nn.dropout(fc, keep_prob)\n",
    "    fc = fully_conn(flat,100)\n",
    "    fc = tf.nn.dropout(fc, keep_prob)\n",
    "    fc = fully_conn(flat,35)\n",
    "    fc = tf.nn.dropout(fc, keep_prob)\n",
    "    \n",
    "    # Function Definition from Above:\n",
    "    #   output(x_tensor, num_outputs)\n",
    "    op = output(fc, num_outputs)\n",
    "    \n",
    "    return op\n",
    "\n",
    "\n",
    "##############################\n",
    "## Build the Neural Network ##\n",
    "##############################\n",
    "\n",
    "# Remove previous weights, bias, inputs, etc..\n",
    "tf.reset_default_graph()\n",
    "\n",
    "# Inputs\n",
    "x = neural_net_image_input((32, 32, 3))\n",
    "y = neural_net_label_input(10)\n",
    "keep_prob = neural_net_keep_prob_input()\n",
    "\n",
    "# Model\n",
    "logits = conv_net(x, keep_prob)\n",
    "\n",
    "# Name logits Tensor, so that is can be loaded from disk after training\n",
    "logits = tf.identity(logits, name='logits')\n",
    "\n",
    "# Loss and Optimizer\n",
    "cost = tf.reduce_mean(tf.nn.softmax_cross_entropy_with_logits(logits=logits, labels=y))\n",
    "optimizer = tf.train.AdamOptimizer().minimize(cost)\n",
    "\n",
    "# Accuracy\n",
    "correct_pred = tf.equal(tf.argmax(logits, 1), tf.argmax(y, 1))\n",
    "accuracy = tf.reduce_mean(tf.cast(correct_pred, tf.float32), name='accuracy')\n",
    "\n",
    "tests.test_conv_net(conv_net)"
   ]
  },
  {
   "cell_type": "markdown",
   "metadata": {
    "deletable": true,
    "editable": true
   },
   "source": [
    "## Train the Neural Network\n",
    "### Single Optimization\n",
    "Implemention of the function `train_neural_network` to do a single optimization.  The optimization uses `optimizer` to optimize in `session` with a `feed_dict` of the following:\n",
    "* `x` for image input\n",
    "* `y` for labels\n",
    "* `keep_prob` for keep probability for dropout\n",
    "\n",
    "This function will be called for each batch, so `tf.global_variables_initializer()` has already been called.\n",
    "\n",
    "Note: Nothing needs to be returned. This function is only optimizing the neural network."
   ]
  },
  {
   "cell_type": "code",
   "execution_count": 13,
   "metadata": {
    "collapsed": false,
    "deletable": true,
    "editable": true
   },
   "outputs": [
    {
     "name": "stdout",
     "output_type": "stream",
     "text": [
      "Tests Passed\n"
     ]
    }
   ],
   "source": [
    "def train_neural_network(session, optimizer, keep_probability, feature_batch, label_batch):\n",
    "    \"\"\"\n",
    "    Optimize the session on a batch of images and labels\n",
    "    : session: Current TensorFlow session\n",
    "    : optimizer: TensorFlow optimizer function\n",
    "    : keep_probability: keep probability\n",
    "    : feature_batch: Batch of Numpy image data\n",
    "    : label_batch: Batch of Numpy label data\n",
    "    \"\"\"\n",
    "    return session.run(optimizer, feed_dict={'x:0':feature_batch,'y:0':label_batch, 'keep_prob:0':keep_probability})\n",
    "\n",
    "tests.test_train_nn(train_neural_network)"
   ]
  },
  {
   "cell_type": "markdown",
   "metadata": {
    "deletable": true,
    "editable": true
   },
   "source": [
    "### Show Stats\n",
    "Implemention of the function `print_stats` to print loss and validation accuracy.  Using the global variables `valid_features` and `valid_labels` to calculate validation accuracy.  Using a keep probability of `1.0` to calculate the loss and validation accuracy."
   ]
  },
  {
   "cell_type": "code",
   "execution_count": 14,
   "metadata": {
    "collapsed": false,
    "deletable": true,
    "editable": true
   },
   "outputs": [],
   "source": [
    "def print_stats(session, feature_batch, label_batch, cost, accuracy):\n",
    "    \"\"\"\n",
    "    Print information about loss and validation accuracy\n",
    "    : session: Current TensorFlow session\n",
    "    : feature_batch: Batch of Numpy image data\n",
    "    : label_batch: Batch of Numpy label data\n",
    "    : cost: TensorFlow cost function\n",
    "    : accuracy: TensorFlow accuracy function\n",
    "    \"\"\"\n",
    "    loss = session.run(cost, feed_dict={'x:0': feature_batch, 'y:0': label_batch, 'keep_prob:0': 1.0})\n",
    "    valid_acc = session.run(accuracy, feed_dict={'x:0': valid_features, 'y:0': valid_labels, 'keep_prob:0': 1.0})\n",
    "    print('Loss: {:>10.4f} Accuracy: {:.6f}'.format(loss,valid_acc))\n",
    "    pass"
   ]
  },
  {
   "cell_type": "markdown",
   "metadata": {
    "deletable": true,
    "editable": true
   },
   "source": [
    "### Hyperparameters\n",
    "The following params need to be set:\n",
    "* Set `epochs` to the number of iterations until the network stops learning or start overfitting\n",
    "* Set `batch_size` to the highest number that one's machine has memory for  \n",
    "* Set `keep_probability` to the probability of keeping a node using dropout"
   ]
  },
  {
   "cell_type": "code",
   "execution_count": 15,
   "metadata": {
    "collapsed": true,
    "deletable": true,
    "editable": true
   },
   "outputs": [],
   "source": [
    "\n",
    "epochs = 60\n",
    "batch_size = 512\n",
    "keep_probability = 0.7"
   ]
  },
  {
   "cell_type": "markdown",
   "metadata": {
    "deletable": true,
    "editable": true
   },
   "source": [
    "### Training on a Single CIFAR-10 Batch\n",
    "Instead of training the neural network on all the CIFAR-10 batches of data, let's use a single batch. This should save time while you iterate on the model to get a better accuracy.  Once the final validation accuracy is 50% or greater, run the model on all the data in the next section."
   ]
  },
  {
   "cell_type": "code",
   "execution_count": 16,
   "metadata": {
    "collapsed": false,
    "deletable": true,
    "editable": true
   },
   "outputs": [
    {
     "name": "stdout",
     "output_type": "stream",
     "text": [
      "Checking the Training on a Single Batch...\n",
      "Epoch  1, CIFAR-10 Batch 1:  Loss:     2.1690 Accuracy: 0.213000\n",
      "Epoch  2, CIFAR-10 Batch 1:  Loss:     2.0317 Accuracy: 0.277400\n",
      "Epoch  3, CIFAR-10 Batch 1:  Loss:     1.9501 Accuracy: 0.330200\n",
      "Epoch  4, CIFAR-10 Batch 1:  Loss:     1.8318 Accuracy: 0.371400\n",
      "Epoch  5, CIFAR-10 Batch 1:  Loss:     1.7818 Accuracy: 0.388000\n",
      "Epoch  6, CIFAR-10 Batch 1:  Loss:     1.7479 Accuracy: 0.383600\n",
      "Epoch  7, CIFAR-10 Batch 1:  Loss:     1.7194 Accuracy: 0.415600\n",
      "Epoch  8, CIFAR-10 Batch 1:  Loss:     1.6389 Accuracy: 0.423000\n",
      "Epoch  9, CIFAR-10 Batch 1:  Loss:     1.5890 Accuracy: 0.453600\n",
      "Epoch 10, CIFAR-10 Batch 1:  Loss:     1.5433 Accuracy: 0.455600\n",
      "Epoch 11, CIFAR-10 Batch 1:  Loss:     1.5030 Accuracy: 0.455400\n",
      "Epoch 12, CIFAR-10 Batch 1:  Loss:     1.4687 Accuracy: 0.464400\n",
      "Epoch 13, CIFAR-10 Batch 1:  Loss:     1.4429 Accuracy: 0.468600\n",
      "Epoch 14, CIFAR-10 Batch 1:  Loss:     1.4368 Accuracy: 0.476000\n",
      "Epoch 15, CIFAR-10 Batch 1:  Loss:     1.3901 Accuracy: 0.485400\n",
      "Epoch 16, CIFAR-10 Batch 1:  Loss:     1.3739 Accuracy: 0.491800\n",
      "Epoch 17, CIFAR-10 Batch 1:  Loss:     1.3024 Accuracy: 0.490200\n",
      "Epoch 18, CIFAR-10 Batch 1:  Loss:     1.2918 Accuracy: 0.496400\n",
      "Epoch 19, CIFAR-10 Batch 1:  Loss:     1.2448 Accuracy: 0.501400\n",
      "Epoch 20, CIFAR-10 Batch 1:  Loss:     1.2389 Accuracy: 0.493600\n",
      "Epoch 21, CIFAR-10 Batch 1:  Loss:     1.2034 Accuracy: 0.498200\n",
      "Epoch 22, CIFAR-10 Batch 1:  Loss:     1.1758 Accuracy: 0.517400\n",
      "Epoch 23, CIFAR-10 Batch 1:  Loss:     1.1502 Accuracy: 0.514400\n",
      "Epoch 24, CIFAR-10 Batch 1:  Loss:     1.1229 Accuracy: 0.519400\n",
      "Epoch 25, CIFAR-10 Batch 1:  Loss:     1.0811 Accuracy: 0.530000\n",
      "Epoch 26, CIFAR-10 Batch 1:  Loss:     1.0744 Accuracy: 0.529000\n",
      "Epoch 27, CIFAR-10 Batch 1:  Loss:     1.1072 Accuracy: 0.508800\n",
      "Epoch 28, CIFAR-10 Batch 1:  Loss:     1.0292 Accuracy: 0.527600\n",
      "Epoch 29, CIFAR-10 Batch 1:  Loss:     1.0462 Accuracy: 0.508600\n",
      "Epoch 30, CIFAR-10 Batch 1:  Loss:     0.9744 Accuracy: 0.538200\n",
      "Epoch 31, CIFAR-10 Batch 1:  Loss:     0.9508 Accuracy: 0.533400\n",
      "Epoch 32, CIFAR-10 Batch 1:  Loss:     0.9508 Accuracy: 0.526800\n",
      "Epoch 33, CIFAR-10 Batch 1:  Loss:     0.9412 Accuracy: 0.538400\n",
      "Epoch 34, CIFAR-10 Batch 1:  Loss:     0.8975 Accuracy: 0.540000\n",
      "Epoch 35, CIFAR-10 Batch 1:  Loss:     0.9040 Accuracy: 0.534400\n",
      "Epoch 36, CIFAR-10 Batch 1:  Loss:     0.8668 Accuracy: 0.545800\n",
      "Epoch 37, CIFAR-10 Batch 1:  Loss:     0.8375 Accuracy: 0.549200\n",
      "Epoch 38, CIFAR-10 Batch 1:  Loss:     0.8562 Accuracy: 0.532800\n",
      "Epoch 39, CIFAR-10 Batch 1:  Loss:     0.7990 Accuracy: 0.544000\n",
      "Epoch 40, CIFAR-10 Batch 1:  Loss:     0.7850 Accuracy: 0.548600\n",
      "Epoch 41, CIFAR-10 Batch 1:  Loss:     0.7981 Accuracy: 0.543400\n",
      "Epoch 42, CIFAR-10 Batch 1:  Loss:     0.7685 Accuracy: 0.545400\n",
      "Epoch 43, CIFAR-10 Batch 1:  Loss:     0.7677 Accuracy: 0.544000\n",
      "Epoch 44, CIFAR-10 Batch 1:  Loss:     0.8244 Accuracy: 0.519400\n",
      "Epoch 45, CIFAR-10 Batch 1:  Loss:     0.7186 Accuracy: 0.556600\n",
      "Epoch 46, CIFAR-10 Batch 1:  Loss:     0.6988 Accuracy: 0.546000\n",
      "Epoch 47, CIFAR-10 Batch 1:  Loss:     0.7084 Accuracy: 0.546200\n",
      "Epoch 48, CIFAR-10 Batch 1:  Loss:     0.6713 Accuracy: 0.557000\n",
      "Epoch 49, CIFAR-10 Batch 1:  Loss:     0.6829 Accuracy: 0.556600\n",
      "Epoch 50, CIFAR-10 Batch 1:  Loss:     0.6440 Accuracy: 0.567400\n",
      "Epoch 51, CIFAR-10 Batch 1:  Loss:     0.7187 Accuracy: 0.533800\n",
      "Epoch 52, CIFAR-10 Batch 1:  Loss:     0.6387 Accuracy: 0.551400\n",
      "Epoch 53, CIFAR-10 Batch 1:  Loss:     0.6038 Accuracy: 0.563200\n",
      "Epoch 54, CIFAR-10 Batch 1:  Loss:     0.5639 Accuracy: 0.566400\n",
      "Epoch 55, CIFAR-10 Batch 1:  Loss:     0.5581 Accuracy: 0.561800\n",
      "Epoch 56, CIFAR-10 Batch 1:  Loss:     0.5450 Accuracy: 0.564400\n",
      "Epoch 57, CIFAR-10 Batch 1:  Loss:     0.5635 Accuracy: 0.557200\n",
      "Epoch 58, CIFAR-10 Batch 1:  Loss:     0.5319 Accuracy: 0.559200\n",
      "Epoch 59, CIFAR-10 Batch 1:  Loss:     0.5368 Accuracy: 0.555800\n",
      "Epoch 60, CIFAR-10 Batch 1:  Loss:     0.5672 Accuracy: 0.552800\n"
     ]
    }
   ],
   "source": [
    "\n",
    "print('Checking the Training on a Single Batch...')\n",
    "with tf.Session() as sess:\n",
    "    # Initializing the variables\n",
    "    sess.run(tf.global_variables_initializer())\n",
    "    \n",
    "    # Training cycle\n",
    "    for epoch in range(epochs):\n",
    "        batch_i = 1\n",
    "        for batch_features, batch_labels in helper.load_preprocess_training_batch(batch_i, batch_size):\n",
    "            train_neural_network(sess, optimizer, keep_probability, batch_features, batch_labels)\n",
    "        print('Epoch {:>2}, CIFAR-10 Batch {}:  '.format(epoch + 1, batch_i), end='')\n",
    "        print_stats(sess, batch_features, batch_labels, cost, accuracy)"
   ]
  },
  {
   "cell_type": "markdown",
   "metadata": {
    "deletable": true,
    "editable": true
   },
   "source": [
    "### Fully Train the Model"
   ]
  },
  {
   "cell_type": "code",
   "execution_count": 17,
   "metadata": {
    "collapsed": false,
    "deletable": true,
    "editable": true
   },
   "outputs": [
    {
     "name": "stdout",
     "output_type": "stream",
     "text": [
      "Training...\n",
      "Epoch  1, CIFAR-10 Batch 1:  Loss:     2.1458 Accuracy: 0.200200\n",
      "Epoch  1, CIFAR-10 Batch 2:  Loss:     2.0104 Accuracy: 0.288400\n",
      "Epoch  1, CIFAR-10 Batch 3:  Loss:     1.8857 Accuracy: 0.311800\n",
      "Epoch  1, CIFAR-10 Batch 4:  Loss:     1.8071 Accuracy: 0.338200\n",
      "Epoch  1, CIFAR-10 Batch 5:  Loss:     1.7453 Accuracy: 0.384200\n",
      "Epoch  2, CIFAR-10 Batch 1:  Loss:     1.8336 Accuracy: 0.369000\n",
      "Epoch  2, CIFAR-10 Batch 2:  Loss:     1.6748 Accuracy: 0.420200\n",
      "Epoch  2, CIFAR-10 Batch 3:  Loss:     1.5649 Accuracy: 0.432400\n",
      "Epoch  2, CIFAR-10 Batch 4:  Loss:     1.5223 Accuracy: 0.438400\n",
      "Epoch  2, CIFAR-10 Batch 5:  Loss:     1.5279 Accuracy: 0.454400\n",
      "Epoch  3, CIFAR-10 Batch 1:  Loss:     1.6280 Accuracy: 0.473200\n",
      "Epoch  3, CIFAR-10 Batch 2:  Loss:     1.4884 Accuracy: 0.484400\n",
      "Epoch  3, CIFAR-10 Batch 3:  Loss:     1.3310 Accuracy: 0.488200\n",
      "Epoch  3, CIFAR-10 Batch 4:  Loss:     1.3903 Accuracy: 0.484200\n",
      "Epoch  3, CIFAR-10 Batch 5:  Loss:     1.4010 Accuracy: 0.498000\n",
      "Epoch  4, CIFAR-10 Batch 1:  Loss:     1.5353 Accuracy: 0.487600\n",
      "Epoch  4, CIFAR-10 Batch 2:  Loss:     1.3954 Accuracy: 0.500000\n",
      "Epoch  4, CIFAR-10 Batch 3:  Loss:     1.2762 Accuracy: 0.510000\n",
      "Epoch  4, CIFAR-10 Batch 4:  Loss:     1.2472 Accuracy: 0.520200\n",
      "Epoch  4, CIFAR-10 Batch 5:  Loss:     1.3334 Accuracy: 0.511800\n",
      "Epoch  5, CIFAR-10 Batch 1:  Loss:     1.4196 Accuracy: 0.533000\n",
      "Epoch  5, CIFAR-10 Batch 2:  Loss:     1.3028 Accuracy: 0.528800\n",
      "Epoch  5, CIFAR-10 Batch 3:  Loss:     1.1655 Accuracy: 0.535200\n",
      "Epoch  5, CIFAR-10 Batch 4:  Loss:     1.2195 Accuracy: 0.518800\n",
      "Epoch  5, CIFAR-10 Batch 5:  Loss:     1.2522 Accuracy: 0.532400\n",
      "Epoch  6, CIFAR-10 Batch 1:  Loss:     1.3872 Accuracy: 0.534200\n",
      "Epoch  6, CIFAR-10 Batch 2:  Loss:     1.2500 Accuracy: 0.545200\n",
      "Epoch  6, CIFAR-10 Batch 3:  Loss:     1.1354 Accuracy: 0.554600\n",
      "Epoch  6, CIFAR-10 Batch 4:  Loss:     1.1665 Accuracy: 0.533000\n",
      "Epoch  6, CIFAR-10 Batch 5:  Loss:     1.2061 Accuracy: 0.552200\n",
      "Epoch  7, CIFAR-10 Batch 1:  Loss:     1.3157 Accuracy: 0.553000\n",
      "Epoch  7, CIFAR-10 Batch 2:  Loss:     1.2016 Accuracy: 0.555400\n",
      "Epoch  7, CIFAR-10 Batch 3:  Loss:     1.1083 Accuracy: 0.555600\n",
      "Epoch  7, CIFAR-10 Batch 4:  Loss:     1.0903 Accuracy: 0.550600\n",
      "Epoch  7, CIFAR-10 Batch 5:  Loss:     1.1459 Accuracy: 0.560000\n",
      "Epoch  8, CIFAR-10 Batch 1:  Loss:     1.2263 Accuracy: 0.558800\n",
      "Epoch  8, CIFAR-10 Batch 2:  Loss:     1.1386 Accuracy: 0.575800\n",
      "Epoch  8, CIFAR-10 Batch 3:  Loss:     1.1118 Accuracy: 0.552200\n",
      "Epoch  8, CIFAR-10 Batch 4:  Loss:     1.0159 Accuracy: 0.573200\n",
      "Epoch  8, CIFAR-10 Batch 5:  Loss:     1.1061 Accuracy: 0.582000\n",
      "Epoch  9, CIFAR-10 Batch 1:  Loss:     1.1922 Accuracy: 0.568800\n",
      "Epoch  9, CIFAR-10 Batch 2:  Loss:     1.1108 Accuracy: 0.579800\n",
      "Epoch  9, CIFAR-10 Batch 3:  Loss:     1.0817 Accuracy: 0.565600\n",
      "Epoch  9, CIFAR-10 Batch 4:  Loss:     1.0624 Accuracy: 0.558400\n",
      "Epoch  9, CIFAR-10 Batch 5:  Loss:     1.0661 Accuracy: 0.586400\n",
      "Epoch 10, CIFAR-10 Batch 1:  Loss:     1.1180 Accuracy: 0.588800\n",
      "Epoch 10, CIFAR-10 Batch 2:  Loss:     1.0451 Accuracy: 0.587800\n",
      "Epoch 10, CIFAR-10 Batch 3:  Loss:     0.9921 Accuracy: 0.594200\n",
      "Epoch 10, CIFAR-10 Batch 4:  Loss:     0.9977 Accuracy: 0.580200\n",
      "Epoch 10, CIFAR-10 Batch 5:  Loss:     1.0175 Accuracy: 0.599000\n",
      "Epoch 11, CIFAR-10 Batch 1:  Loss:     1.0684 Accuracy: 0.602800\n",
      "Epoch 11, CIFAR-10 Batch 2:  Loss:     1.0082 Accuracy: 0.590800\n",
      "Epoch 11, CIFAR-10 Batch 3:  Loss:     0.9409 Accuracy: 0.601600\n",
      "Epoch 11, CIFAR-10 Batch 4:  Loss:     0.9484 Accuracy: 0.596600\n",
      "Epoch 11, CIFAR-10 Batch 5:  Loss:     0.9857 Accuracy: 0.607000\n",
      "Epoch 12, CIFAR-10 Batch 1:  Loss:     1.0256 Accuracy: 0.611200\n",
      "Epoch 12, CIFAR-10 Batch 2:  Loss:     0.9693 Accuracy: 0.606200\n",
      "Epoch 12, CIFAR-10 Batch 3:  Loss:     0.9486 Accuracy: 0.599000\n",
      "Epoch 12, CIFAR-10 Batch 4:  Loss:     0.8892 Accuracy: 0.620400\n",
      "Epoch 12, CIFAR-10 Batch 5:  Loss:     0.9439 Accuracy: 0.625600\n",
      "Epoch 13, CIFAR-10 Batch 1:  Loss:     0.9934 Accuracy: 0.620400\n",
      "Epoch 13, CIFAR-10 Batch 2:  Loss:     0.9629 Accuracy: 0.602400\n",
      "Epoch 13, CIFAR-10 Batch 3:  Loss:     0.9109 Accuracy: 0.615200\n",
      "Epoch 13, CIFAR-10 Batch 4:  Loss:     0.8784 Accuracy: 0.632200\n",
      "Epoch 13, CIFAR-10 Batch 5:  Loss:     0.9049 Accuracy: 0.616600\n",
      "Epoch 14, CIFAR-10 Batch 1:  Loss:     0.9649 Accuracy: 0.626800\n",
      "Epoch 14, CIFAR-10 Batch 2:  Loss:     0.9117 Accuracy: 0.617400\n",
      "Epoch 14, CIFAR-10 Batch 3:  Loss:     0.8667 Accuracy: 0.620600\n",
      "Epoch 14, CIFAR-10 Batch 4:  Loss:     0.8321 Accuracy: 0.626200\n",
      "Epoch 14, CIFAR-10 Batch 5:  Loss:     0.8640 Accuracy: 0.628200\n",
      "Epoch 15, CIFAR-10 Batch 1:  Loss:     0.9341 Accuracy: 0.632000\n",
      "Epoch 15, CIFAR-10 Batch 2:  Loss:     0.8653 Accuracy: 0.635000\n",
      "Epoch 15, CIFAR-10 Batch 3:  Loss:     0.8837 Accuracy: 0.602400\n",
      "Epoch 15, CIFAR-10 Batch 4:  Loss:     0.8347 Accuracy: 0.625000\n",
      "Epoch 15, CIFAR-10 Batch 5:  Loss:     0.8468 Accuracy: 0.631800\n",
      "Epoch 16, CIFAR-10 Batch 1:  Loss:     0.9042 Accuracy: 0.642400\n",
      "Epoch 16, CIFAR-10 Batch 2:  Loss:     0.8489 Accuracy: 0.636200\n",
      "Epoch 16, CIFAR-10 Batch 3:  Loss:     0.8120 Accuracy: 0.632000\n",
      "Epoch 16, CIFAR-10 Batch 4:  Loss:     0.7903 Accuracy: 0.637000\n",
      "Epoch 16, CIFAR-10 Batch 5:  Loss:     0.7892 Accuracy: 0.634000\n",
      "Epoch 17, CIFAR-10 Batch 1:  Loss:     0.8502 Accuracy: 0.650200\n",
      "Epoch 17, CIFAR-10 Batch 2:  Loss:     0.8393 Accuracy: 0.629200\n",
      "Epoch 17, CIFAR-10 Batch 3:  Loss:     0.8058 Accuracy: 0.625200\n",
      "Epoch 17, CIFAR-10 Batch 4:  Loss:     0.7787 Accuracy: 0.644400\n",
      "Epoch 17, CIFAR-10 Batch 5:  Loss:     0.7985 Accuracy: 0.644600\n",
      "Epoch 18, CIFAR-10 Batch 1:  Loss:     0.8420 Accuracy: 0.643000\n",
      "Epoch 18, CIFAR-10 Batch 2:  Loss:     0.8087 Accuracy: 0.637600\n",
      "Epoch 18, CIFAR-10 Batch 3:  Loss:     0.7846 Accuracy: 0.624000\n",
      "Epoch 18, CIFAR-10 Batch 4:  Loss:     0.7382 Accuracy: 0.651000\n",
      "Epoch 18, CIFAR-10 Batch 5:  Loss:     0.7700 Accuracy: 0.640800\n",
      "Epoch 19, CIFAR-10 Batch 1:  Loss:     0.8302 Accuracy: 0.654600\n",
      "Epoch 19, CIFAR-10 Batch 2:  Loss:     0.7796 Accuracy: 0.646800\n",
      "Epoch 19, CIFAR-10 Batch 3:  Loss:     0.7709 Accuracy: 0.618800\n",
      "Epoch 19, CIFAR-10 Batch 4:  Loss:     0.7554 Accuracy: 0.639600\n",
      "Epoch 19, CIFAR-10 Batch 5:  Loss:     0.7326 Accuracy: 0.652600\n",
      "Epoch 20, CIFAR-10 Batch 1:  Loss:     0.8234 Accuracy: 0.650600\n",
      "Epoch 20, CIFAR-10 Batch 2:  Loss:     0.7613 Accuracy: 0.646000\n",
      "Epoch 20, CIFAR-10 Batch 3:  Loss:     0.7383 Accuracy: 0.631800\n",
      "Epoch 20, CIFAR-10 Batch 4:  Loss:     0.7315 Accuracy: 0.645200\n",
      "Epoch 20, CIFAR-10 Batch 5:  Loss:     0.7130 Accuracy: 0.660000\n",
      "Epoch 21, CIFAR-10 Batch 1:  Loss:     0.7492 Accuracy: 0.668200\n",
      "Epoch 21, CIFAR-10 Batch 2:  Loss:     0.7677 Accuracy: 0.648000\n",
      "Epoch 21, CIFAR-10 Batch 3:  Loss:     0.6917 Accuracy: 0.657800\n",
      "Epoch 21, CIFAR-10 Batch 4:  Loss:     0.7165 Accuracy: 0.653000\n",
      "Epoch 21, CIFAR-10 Batch 5:  Loss:     0.7125 Accuracy: 0.656200\n",
      "Epoch 22, CIFAR-10 Batch 1:  Loss:     0.7457 Accuracy: 0.655200\n",
      "Epoch 22, CIFAR-10 Batch 2:  Loss:     0.7444 Accuracy: 0.655000\n",
      "Epoch 22, CIFAR-10 Batch 3:  Loss:     0.6464 Accuracy: 0.666600\n",
      "Epoch 22, CIFAR-10 Batch 4:  Loss:     0.6645 Accuracy: 0.662600\n",
      "Epoch 22, CIFAR-10 Batch 5:  Loss:     0.6758 Accuracy: 0.654800\n",
      "Epoch 23, CIFAR-10 Batch 1:  Loss:     0.7177 Accuracy: 0.660200\n",
      "Epoch 23, CIFAR-10 Batch 2:  Loss:     0.7212 Accuracy: 0.649000\n",
      "Epoch 23, CIFAR-10 Batch 3:  Loss:     0.6319 Accuracy: 0.666400\n",
      "Epoch 23, CIFAR-10 Batch 4:  Loss:     0.6569 Accuracy: 0.662600\n",
      "Epoch 23, CIFAR-10 Batch 5:  Loss:     0.6823 Accuracy: 0.662800\n",
      "Epoch 24, CIFAR-10 Batch 1:  Loss:     0.7524 Accuracy: 0.662600\n",
      "Epoch 24, CIFAR-10 Batch 2:  Loss:     0.7688 Accuracy: 0.641600\n",
      "Epoch 24, CIFAR-10 Batch 3:  Loss:     0.6240 Accuracy: 0.659600\n",
      "Epoch 24, CIFAR-10 Batch 4:  Loss:     0.6284 Accuracy: 0.662000\n",
      "Epoch 24, CIFAR-10 Batch 5:  Loss:     0.6475 Accuracy: 0.665200\n",
      "Epoch 25, CIFAR-10 Batch 1:  Loss:     0.7241 Accuracy: 0.661400\n",
      "Epoch 25, CIFAR-10 Batch 2:  Loss:     0.7239 Accuracy: 0.656000\n",
      "Epoch 25, CIFAR-10 Batch 3:  Loss:     0.6436 Accuracy: 0.650200\n",
      "Epoch 25, CIFAR-10 Batch 4:  Loss:     0.6189 Accuracy: 0.664200\n",
      "Epoch 25, CIFAR-10 Batch 5:  Loss:     0.6294 Accuracy: 0.664400\n",
      "Epoch 26, CIFAR-10 Batch 1:  Loss:     0.6781 Accuracy: 0.663000\n",
      "Epoch 26, CIFAR-10 Batch 2:  Loss:     0.6958 Accuracy: 0.652400\n",
      "Epoch 26, CIFAR-10 Batch 3:  Loss:     0.6061 Accuracy: 0.663800\n",
      "Epoch 26, CIFAR-10 Batch 4:  Loss:     0.5799 Accuracy: 0.675400\n",
      "Epoch 26, CIFAR-10 Batch 5:  Loss:     0.6200 Accuracy: 0.666800\n",
      "Epoch 27, CIFAR-10 Batch 1:  Loss:     0.6793 Accuracy: 0.662000\n",
      "Epoch 27, CIFAR-10 Batch 2:  Loss:     0.7004 Accuracy: 0.649800\n",
      "Epoch 27, CIFAR-10 Batch 3:  Loss:     0.6219 Accuracy: 0.668200\n",
      "Epoch 27, CIFAR-10 Batch 4:  Loss:     0.6143 Accuracy: 0.668000\n",
      "Epoch 27, CIFAR-10 Batch 5:  Loss:     0.6758 Accuracy: 0.645000\n",
      "Epoch 28, CIFAR-10 Batch 1:  Loss:     0.6673 Accuracy: 0.657400\n",
      "Epoch 28, CIFAR-10 Batch 2:  Loss:     0.6505 Accuracy: 0.667800\n",
      "Epoch 28, CIFAR-10 Batch 3:  Loss:     0.5658 Accuracy: 0.671400\n",
      "Epoch 28, CIFAR-10 Batch 4:  Loss:     0.5709 Accuracy: 0.671200\n",
      "Epoch 28, CIFAR-10 Batch 5:  Loss:     0.6435 Accuracy: 0.651000\n",
      "Epoch 29, CIFAR-10 Batch 1:  Loss:     0.6621 Accuracy: 0.665600\n",
      "Epoch 29, CIFAR-10 Batch 2:  Loss:     0.6667 Accuracy: 0.665200\n",
      "Epoch 29, CIFAR-10 Batch 3:  Loss:     0.6006 Accuracy: 0.651800\n",
      "Epoch 29, CIFAR-10 Batch 4:  Loss:     0.5739 Accuracy: 0.672600\n",
      "Epoch 29, CIFAR-10 Batch 5:  Loss:     0.6138 Accuracy: 0.652000\n",
      "Epoch 30, CIFAR-10 Batch 1:  Loss:     0.6657 Accuracy: 0.667000\n",
      "Epoch 30, CIFAR-10 Batch 2:  Loss:     0.6376 Accuracy: 0.667600\n",
      "Epoch 30, CIFAR-10 Batch 3:  Loss:     0.5407 Accuracy: 0.676000\n",
      "Epoch 30, CIFAR-10 Batch 4:  Loss:     0.5397 Accuracy: 0.675600\n",
      "Epoch 30, CIFAR-10 Batch 5:  Loss:     0.5789 Accuracy: 0.659800\n",
      "Epoch 31, CIFAR-10 Batch 1:  Loss:     0.6460 Accuracy: 0.655600\n",
      "Epoch 31, CIFAR-10 Batch 2:  Loss:     0.6112 Accuracy: 0.669000\n",
      "Epoch 31, CIFAR-10 Batch 3:  Loss:     0.5680 Accuracy: 0.665200\n",
      "Epoch 31, CIFAR-10 Batch 4:  Loss:     0.5821 Accuracy: 0.656200\n",
      "Epoch 31, CIFAR-10 Batch 5:  Loss:     0.5589 Accuracy: 0.673800\n",
      "Epoch 32, CIFAR-10 Batch 1:  Loss:     0.6684 Accuracy: 0.645400\n",
      "Epoch 32, CIFAR-10 Batch 2:  Loss:     0.6456 Accuracy: 0.667600\n",
      "Epoch 32, CIFAR-10 Batch 3:  Loss:     0.5576 Accuracy: 0.671200\n",
      "Epoch 32, CIFAR-10 Batch 4:  Loss:     0.5377 Accuracy: 0.672800\n",
      "Epoch 32, CIFAR-10 Batch 5:  Loss:     0.5292 Accuracy: 0.673400\n",
      "Epoch 33, CIFAR-10 Batch 1:  Loss:     0.6086 Accuracy: 0.659800\n",
      "Epoch 33, CIFAR-10 Batch 2:  Loss:     0.6261 Accuracy: 0.671000\n",
      "Epoch 33, CIFAR-10 Batch 3:  Loss:     0.5257 Accuracy: 0.671200\n",
      "Epoch 33, CIFAR-10 Batch 4:  Loss:     0.5457 Accuracy: 0.669000\n",
      "Epoch 33, CIFAR-10 Batch 5:  Loss:     0.5376 Accuracy: 0.673400\n",
      "Epoch 34, CIFAR-10 Batch 1:  Loss:     0.6125 Accuracy: 0.665000\n",
      "Epoch 34, CIFAR-10 Batch 2:  Loss:     0.6154 Accuracy: 0.668000\n",
      "Epoch 34, CIFAR-10 Batch 3:  Loss:     0.5291 Accuracy: 0.670800\n",
      "Epoch 34, CIFAR-10 Batch 4:  Loss:     0.5312 Accuracy: 0.665200\n",
      "Epoch 34, CIFAR-10 Batch 5:  Loss:     0.5404 Accuracy: 0.671000\n",
      "Epoch 35, CIFAR-10 Batch 1:  Loss:     0.6095 Accuracy: 0.648000\n",
      "Epoch 35, CIFAR-10 Batch 2:  Loss:     0.6164 Accuracy: 0.661800\n",
      "Epoch 35, CIFAR-10 Batch 3:  Loss:     0.4877 Accuracy: 0.678600\n",
      "Epoch 35, CIFAR-10 Batch 4:  Loss:     0.5046 Accuracy: 0.670200\n",
      "Epoch 35, CIFAR-10 Batch 5:  Loss:     0.5145 Accuracy: 0.672200\n",
      "Epoch 36, CIFAR-10 Batch 1:  Loss:     0.6130 Accuracy: 0.661800\n",
      "Epoch 36, CIFAR-10 Batch 2:  Loss:     0.5848 Accuracy: 0.652000\n",
      "Epoch 36, CIFAR-10 Batch 3:  Loss:     0.4701 Accuracy: 0.680000\n",
      "Epoch 36, CIFAR-10 Batch 4:  Loss:     0.4933 Accuracy: 0.668400\n",
      "Epoch 36, CIFAR-10 Batch 5:  Loss:     0.5009 Accuracy: 0.673400\n",
      "Epoch 37, CIFAR-10 Batch 1:  Loss:     0.5852 Accuracy: 0.658200\n",
      "Epoch 37, CIFAR-10 Batch 2:  Loss:     0.5476 Accuracy: 0.669600\n",
      "Epoch 37, CIFAR-10 Batch 3:  Loss:     0.4465 Accuracy: 0.677000\n",
      "Epoch 37, CIFAR-10 Batch 4:  Loss:     0.4872 Accuracy: 0.663800\n",
      "Epoch 37, CIFAR-10 Batch 5:  Loss:     0.5067 Accuracy: 0.669600\n",
      "Epoch 38, CIFAR-10 Batch 1:  Loss:     0.5711 Accuracy: 0.663600\n",
      "Epoch 38, CIFAR-10 Batch 2:  Loss:     0.5341 Accuracy: 0.662400\n",
      "Epoch 38, CIFAR-10 Batch 3:  Loss:     0.4631 Accuracy: 0.671600\n",
      "Epoch 38, CIFAR-10 Batch 4:  Loss:     0.4706 Accuracy: 0.681200\n",
      "Epoch 38, CIFAR-10 Batch 5:  Loss:     0.5085 Accuracy: 0.668000\n",
      "Epoch 39, CIFAR-10 Batch 1:  Loss:     0.5223 Accuracy: 0.675800\n",
      "Epoch 39, CIFAR-10 Batch 2:  Loss:     0.5361 Accuracy: 0.663000\n",
      "Epoch 39, CIFAR-10 Batch 3:  Loss:     0.4483 Accuracy: 0.678000\n",
      "Epoch 39, CIFAR-10 Batch 4:  Loss:     0.4702 Accuracy: 0.666600\n",
      "Epoch 39, CIFAR-10 Batch 5:  Loss:     0.4590 Accuracy: 0.673800\n",
      "Epoch 40, CIFAR-10 Batch 1:  Loss:     0.5083 Accuracy: 0.671800\n",
      "Epoch 40, CIFAR-10 Batch 2:  Loss:     0.4886 Accuracy: 0.673600\n",
      "Epoch 40, CIFAR-10 Batch 3:  Loss:     0.4508 Accuracy: 0.670600\n",
      "Epoch 40, CIFAR-10 Batch 4:  Loss:     0.4621 Accuracy: 0.674800\n",
      "Epoch 40, CIFAR-10 Batch 5:  Loss:     0.4615 Accuracy: 0.674800\n",
      "Epoch 41, CIFAR-10 Batch 1:  Loss:     0.5026 Accuracy: 0.668800\n",
      "Epoch 41, CIFAR-10 Batch 2:  Loss:     0.4961 Accuracy: 0.672800\n",
      "Epoch 41, CIFAR-10 Batch 3:  Loss:     0.4112 Accuracy: 0.677800\n",
      "Epoch 41, CIFAR-10 Batch 4:  Loss:     0.4343 Accuracy: 0.672800\n",
      "Epoch 41, CIFAR-10 Batch 5:  Loss:     0.4393 Accuracy: 0.674800\n",
      "Epoch 42, CIFAR-10 Batch 1:  Loss:     0.4943 Accuracy: 0.670800\n",
      "Epoch 42, CIFAR-10 Batch 2:  Loss:     0.4475 Accuracy: 0.680800\n",
      "Epoch 42, CIFAR-10 Batch 3:  Loss:     0.3984 Accuracy: 0.682800\n",
      "Epoch 42, CIFAR-10 Batch 4:  Loss:     0.4470 Accuracy: 0.672200\n",
      "Epoch 42, CIFAR-10 Batch 5:  Loss:     0.4537 Accuracy: 0.673600\n",
      "Epoch 43, CIFAR-10 Batch 1:  Loss:     0.4649 Accuracy: 0.675400\n",
      "Epoch 43, CIFAR-10 Batch 2:  Loss:     0.4154 Accuracy: 0.679400\n",
      "Epoch 43, CIFAR-10 Batch 3:  Loss:     0.3968 Accuracy: 0.679000\n",
      "Epoch 43, CIFAR-10 Batch 4:  Loss:     0.4357 Accuracy: 0.669400\n",
      "Epoch 43, CIFAR-10 Batch 5:  Loss:     0.4347 Accuracy: 0.678200\n",
      "Epoch 44, CIFAR-10 Batch 1:  Loss:     0.4421 Accuracy: 0.668200\n",
      "Epoch 44, CIFAR-10 Batch 2:  Loss:     0.4210 Accuracy: 0.671000\n",
      "Epoch 44, CIFAR-10 Batch 3:  Loss:     0.3888 Accuracy: 0.678800\n",
      "Epoch 44, CIFAR-10 Batch 4:  Loss:     0.4475 Accuracy: 0.661200\n",
      "Epoch 44, CIFAR-10 Batch 5:  Loss:     0.4240 Accuracy: 0.663400\n",
      "Epoch 45, CIFAR-10 Batch 1:  Loss:     0.4594 Accuracy: 0.660200\n",
      "Epoch 45, CIFAR-10 Batch 2:  Loss:     0.4200 Accuracy: 0.668800\n",
      "Epoch 45, CIFAR-10 Batch 3:  Loss:     0.3859 Accuracy: 0.674600\n",
      "Epoch 45, CIFAR-10 Batch 4:  Loss:     0.4083 Accuracy: 0.672400\n",
      "Epoch 45, CIFAR-10 Batch 5:  Loss:     0.4100 Accuracy: 0.657600\n",
      "Epoch 46, CIFAR-10 Batch 1:  Loss:     0.4230 Accuracy: 0.667600\n",
      "Epoch 46, CIFAR-10 Batch 2:  Loss:     0.4308 Accuracy: 0.670000\n",
      "Epoch 46, CIFAR-10 Batch 3:  Loss:     0.3768 Accuracy: 0.676200\n",
      "Epoch 46, CIFAR-10 Batch 4:  Loss:     0.3942 Accuracy: 0.679400\n",
      "Epoch 46, CIFAR-10 Batch 5:  Loss:     0.3987 Accuracy: 0.667400\n",
      "Epoch 47, CIFAR-10 Batch 1:  Loss:     0.4434 Accuracy: 0.668000\n",
      "Epoch 47, CIFAR-10 Batch 2:  Loss:     0.4389 Accuracy: 0.662200\n",
      "Epoch 47, CIFAR-10 Batch 3:  Loss:     0.3979 Accuracy: 0.674400\n",
      "Epoch 47, CIFAR-10 Batch 4:  Loss:     0.4231 Accuracy: 0.678800\n",
      "Epoch 47, CIFAR-10 Batch 5:  Loss:     0.4049 Accuracy: 0.665600\n",
      "Epoch 48, CIFAR-10 Batch 1:  Loss:     0.4651 Accuracy: 0.648800\n",
      "Epoch 48, CIFAR-10 Batch 2:  Loss:     0.4446 Accuracy: 0.659600\n",
      "Epoch 48, CIFAR-10 Batch 3:  Loss:     0.3735 Accuracy: 0.680000\n",
      "Epoch 48, CIFAR-10 Batch 4:  Loss:     0.4229 Accuracy: 0.678000\n",
      "Epoch 48, CIFAR-10 Batch 5:  Loss:     0.4032 Accuracy: 0.668000\n",
      "Epoch 49, CIFAR-10 Batch 1:  Loss:     0.4303 Accuracy: 0.660400\n",
      "Epoch 49, CIFAR-10 Batch 2:  Loss:     0.4001 Accuracy: 0.658600\n",
      "Epoch 49, CIFAR-10 Batch 3:  Loss:     0.3749 Accuracy: 0.673800\n",
      "Epoch 49, CIFAR-10 Batch 4:  Loss:     0.4234 Accuracy: 0.667000\n",
      "Epoch 49, CIFAR-10 Batch 5:  Loss:     0.3936 Accuracy: 0.660600\n",
      "Epoch 50, CIFAR-10 Batch 1:  Loss:     0.3934 Accuracy: 0.669000\n",
      "Epoch 50, CIFAR-10 Batch 2:  Loss:     0.3954 Accuracy: 0.664400\n",
      "Epoch 50, CIFAR-10 Batch 3:  Loss:     0.3840 Accuracy: 0.680000\n",
      "Epoch 50, CIFAR-10 Batch 4:  Loss:     0.4306 Accuracy: 0.664200\n",
      "Epoch 50, CIFAR-10 Batch 5:  Loss:     0.4237 Accuracy: 0.659400\n",
      "Epoch 51, CIFAR-10 Batch 1:  Loss:     0.4070 Accuracy: 0.670800\n",
      "Epoch 51, CIFAR-10 Batch 2:  Loss:     0.3581 Accuracy: 0.673800\n",
      "Epoch 51, CIFAR-10 Batch 3:  Loss:     0.3813 Accuracy: 0.664200\n",
      "Epoch 51, CIFAR-10 Batch 4:  Loss:     0.4008 Accuracy: 0.671800\n",
      "Epoch 51, CIFAR-10 Batch 5:  Loss:     0.4091 Accuracy: 0.660400\n",
      "Epoch 52, CIFAR-10 Batch 1:  Loss:     0.4033 Accuracy: 0.667200\n",
      "Epoch 52, CIFAR-10 Batch 2:  Loss:     0.3487 Accuracy: 0.668000\n",
      "Epoch 52, CIFAR-10 Batch 3:  Loss:     0.3570 Accuracy: 0.671000\n",
      "Epoch 52, CIFAR-10 Batch 4:  Loss:     0.4080 Accuracy: 0.671800\n",
      "Epoch 52, CIFAR-10 Batch 5:  Loss:     0.3929 Accuracy: 0.657600\n",
      "Epoch 53, CIFAR-10 Batch 1:  Loss:     0.4015 Accuracy: 0.664600\n",
      "Epoch 53, CIFAR-10 Batch 2:  Loss:     0.4259 Accuracy: 0.645400\n",
      "Epoch 53, CIFAR-10 Batch 3:  Loss:     0.3680 Accuracy: 0.664000\n",
      "Epoch 53, CIFAR-10 Batch 4:  Loss:     0.4037 Accuracy: 0.660400\n",
      "Epoch 53, CIFAR-10 Batch 5:  Loss:     0.3847 Accuracy: 0.666600\n",
      "Epoch 54, CIFAR-10 Batch 1:  Loss:     0.3927 Accuracy: 0.671600\n",
      "Epoch 54, CIFAR-10 Batch 2:  Loss:     0.4015 Accuracy: 0.660800\n",
      "Epoch 54, CIFAR-10 Batch 3:  Loss:     0.3778 Accuracy: 0.660200\n",
      "Epoch 54, CIFAR-10 Batch 4:  Loss:     0.3917 Accuracy: 0.668400\n",
      "Epoch 54, CIFAR-10 Batch 5:  Loss:     0.3903 Accuracy: 0.655800\n",
      "Epoch 55, CIFAR-10 Batch 1:  Loss:     0.4226 Accuracy: 0.665400\n",
      "Epoch 55, CIFAR-10 Batch 2:  Loss:     0.4115 Accuracy: 0.655000\n",
      "Epoch 55, CIFAR-10 Batch 3:  Loss:     0.4394 Accuracy: 0.647400\n",
      "Epoch 55, CIFAR-10 Batch 4:  Loss:     0.4125 Accuracy: 0.661800\n",
      "Epoch 55, CIFAR-10 Batch 5:  Loss:     0.3861 Accuracy: 0.666400\n",
      "Epoch 56, CIFAR-10 Batch 1:  Loss:     0.4038 Accuracy: 0.662200\n",
      "Epoch 56, CIFAR-10 Batch 2:  Loss:     0.3742 Accuracy: 0.669600\n",
      "Epoch 56, CIFAR-10 Batch 3:  Loss:     0.3976 Accuracy: 0.656600\n",
      "Epoch 56, CIFAR-10 Batch 4:  Loss:     0.3643 Accuracy: 0.665600\n",
      "Epoch 56, CIFAR-10 Batch 5:  Loss:     0.3788 Accuracy: 0.656600\n",
      "Epoch 57, CIFAR-10 Batch 1:  Loss:     0.4497 Accuracy: 0.661800\n",
      "Epoch 57, CIFAR-10 Batch 2:  Loss:     0.3350 Accuracy: 0.658400\n",
      "Epoch 57, CIFAR-10 Batch 3:  Loss:     0.3692 Accuracy: 0.668200\n",
      "Epoch 57, CIFAR-10 Batch 4:  Loss:     0.3541 Accuracy: 0.674600\n",
      "Epoch 57, CIFAR-10 Batch 5:  Loss:     0.3521 Accuracy: 0.664200\n",
      "Epoch 58, CIFAR-10 Batch 1:  Loss:     0.3778 Accuracy: 0.669000\n",
      "Epoch 58, CIFAR-10 Batch 2:  Loss:     0.3460 Accuracy: 0.662200\n",
      "Epoch 58, CIFAR-10 Batch 3:  Loss:     0.3959 Accuracy: 0.647000\n",
      "Epoch 58, CIFAR-10 Batch 4:  Loss:     0.3621 Accuracy: 0.666800\n",
      "Epoch 58, CIFAR-10 Batch 5:  Loss:     0.3376 Accuracy: 0.674200\n",
      "Epoch 59, CIFAR-10 Batch 1:  Loss:     0.3846 Accuracy: 0.668600\n",
      "Epoch 59, CIFAR-10 Batch 2:  Loss:     0.3574 Accuracy: 0.662000\n",
      "Epoch 59, CIFAR-10 Batch 3:  Loss:     0.4232 Accuracy: 0.653800\n",
      "Epoch 59, CIFAR-10 Batch 4:  Loss:     0.3593 Accuracy: 0.669200\n",
      "Epoch 59, CIFAR-10 Batch 5:  Loss:     0.3292 Accuracy: 0.675000\n",
      "Epoch 60, CIFAR-10 Batch 1:  Loss:     0.3574 Accuracy: 0.674000\n",
      "Epoch 60, CIFAR-10 Batch 2:  Loss:     0.3603 Accuracy: 0.663800\n",
      "Epoch 60, CIFAR-10 Batch 3:  Loss:     0.4160 Accuracy: 0.648400\n",
      "Epoch 60, CIFAR-10 Batch 4:  Loss:     0.3399 Accuracy: 0.671000\n",
      "Epoch 60, CIFAR-10 Batch 5:  Loss:     0.3323 Accuracy: 0.669200\n"
     ]
    }
   ],
   "source": [
    "\n",
    "save_model_path = './image_classification'\n",
    "\n",
    "print('Training...')\n",
    "with tf.Session() as sess:\n",
    "    # Initializing the variables\n",
    "    sess.run(tf.global_variables_initializer())\n",
    "    \n",
    "    # Training cycle\n",
    "    for epoch in range(epochs):\n",
    "        # Loop over all batches\n",
    "        n_batches = 5\n",
    "        for batch_i in range(1, n_batches + 1):\n",
    "            for batch_features, batch_labels in helper.load_preprocess_training_batch(batch_i, batch_size):\n",
    "                train_neural_network(sess, optimizer, keep_probability, batch_features, batch_labels)\n",
    "            print('Epoch {:>2}, CIFAR-10 Batch {}:  '.format(epoch + 1, batch_i), end='')\n",
    "            print_stats(sess, batch_features, batch_labels, cost, accuracy)\n",
    "            \n",
    "    # Save Model\n",
    "    saver = tf.train.Saver()\n",
    "    save_path = saver.save(sess, save_model_path)"
   ]
  },
  {
   "cell_type": "markdown",
   "metadata": {
    "deletable": true,
    "editable": true
   },
   "source": [
    "# Checkpoint\n",
    "The model has been saved to disk.\n",
    "## Test Model\n",
    "Testing the model against the test dataset.  "
   ]
  },
  {
   "cell_type": "code",
   "execution_count": 20,
   "metadata": {
    "collapsed": false,
    "deletable": true,
    "editable": true
   },
   "outputs": [
    {
     "name": "stdout",
     "output_type": "stream",
     "text": [
      "Testing Accuracy: 0.6688217461109162\n",
      "\n"
     ]
    },
    {
     "data": {
      "image/png": "[encoded data removed]",
      "text/plain": [
       "<matplotlib.figure.Figure at 0x11ea26748>"
      ]
     },
     "metadata": {
      "image/png": {
       "height": 319,
       "width": 355
      }
     },
     "output_type": "display_data"
    }
   ],
   "source": [
    "\n",
    "%matplotlib inline\n",
    "%config InlineBackend.figure_format = 'retina'\n",
    "\n",
    "import tensorflow as tf\n",
    "import pickle\n",
    "import helper\n",
    "import random\n",
    "\n",
    "# Set batch size if not already set\n",
    "try:\n",
    "    if batch_size:\n",
    "        pass\n",
    "except NameError:\n",
    "    batch_size = 64\n",
    "\n",
    "save_model_path = './image_classification'\n",
    "n_samples = 4\n",
    "top_n_predictions = 3\n",
    "\n",
    "def test_model():\n",
    "    \"\"\"\n",
    "    Test the saved model against the test dataset\n",
    "    \"\"\"\n",
    "\n",
    "    test_features, test_labels = pickle.load(open('preprocess_validation.p', mode='rb'))\n",
    "    loaded_graph = tf.Graph()\n",
    "\n",
    "    with tf.Session(graph=loaded_graph) as sess:\n",
    "        # Load model\n",
    "        loader = tf.train.import_meta_graph(save_model_path + '.meta')\n",
    "        loader.restore(sess, save_model_path)\n",
    "\n",
    "        # Get Tensors from loaded model\n",
    "        loaded_x = loaded_graph.get_tensor_by_name('x:0')\n",
    "        loaded_y = loaded_graph.get_tensor_by_name('y:0')\n",
    "        loaded_keep_prob = loaded_graph.get_tensor_by_name('keep_prob:0')\n",
    "        loaded_logits = loaded_graph.get_tensor_by_name('logits:0')\n",
    "        loaded_acc = loaded_graph.get_tensor_by_name('accuracy:0')\n",
    "        \n",
    "        # Get accuracy in batches for memory limitations\n",
    "        test_batch_acc_total = 0\n",
    "        test_batch_count = 0\n",
    "        \n",
    "        for train_feature_batch, train_label_batch in helper.batch_features_labels(test_features, test_labels, batch_size):\n",
    "            test_batch_acc_total += sess.run(\n",
    "                loaded_acc,\n",
    "                feed_dict={loaded_x: train_feature_batch, loaded_y: train_label_batch, loaded_keep_prob: 1.0})\n",
    "            test_batch_count += 1\n",
    "\n",
    "        print('Testing Accuracy: {}\\n'.format(test_batch_acc_total/test_batch_count))\n",
    "\n",
    "        # Print Random Samples\n",
    "        random_test_features, random_test_labels = tuple(zip(*random.sample(list(zip(test_features, test_labels)), n_samples)))\n",
    "        random_test_predictions = sess.run(\n",
    "            tf.nn.top_k(tf.nn.softmax(loaded_logits), top_n_predictions),\n",
    "            feed_dict={loaded_x: random_test_features, loaded_y: random_test_labels, loaded_keep_prob: 1.0})\n",
    "        helper.display_image_predictions(random_test_features, random_test_labels, random_test_predictions)\n",
    "\n",
    "\n",
    "test_model()"
   ]
  },
  {
   "cell_type": "markdown",
   "metadata": {
    "deletable": true,
    "editable": true
   },
   "source": [
    "Modify hyperparams as needed. "
   ]
  }
 ],
 "metadata": {
  "kernelspec": {
   "display_name": "Python 3",
   "language": "python",
   "name": "python3"
  },
  "language_info": {
   "codemirror_mode": {
    "name": "ipython",
    "version": 3
   },
   "file_extension": ".py",
   "mimetype": "text/x-python",
   "name": "python",
   "nbconvert_exporter": "python",
   "pygments_lexer": "ipython3",
   "version": "3.5.3"
  }
 },
 "nbformat": 4,
 "nbformat_minor": 0
}
